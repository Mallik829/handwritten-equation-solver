{
 "cells": [
  {
   "cell_type": "code",
   "execution_count": 6,
   "metadata": {
    "id": "pVC5ZrpdRlvm"
   },
   "outputs": [],
   "source": [
    "# Import libraries and modules\n",
    "import numpy as np\n",
    "import pandas as pd\n",
    "import matplotlib.pyplot as plt\n",
    "import cv2\n",
    "import os\n",
    "import pickle\n",
    "\n",
    "from tensorflow.keras.models import Sequential\n",
    "from tensorflow.keras.layers import Dense, Dropout, Flatten, Conv2D, MaxPooling2D\n",
    "from tensorflow.keras.datasets import mnist, cifar10\n",
    "from tensorflow.keras.preprocessing import image_dataset_from_directory\n",
    "from tensorflow.keras.applications.imagenet_utils import decode_predictions"
   ]
  },
  {
   "cell_type": "code",
   "execution_count": 7,
   "metadata": {
    "id": "J-Iw0eOGSd97"
   },
   "outputs": [],
   "source": [
    "# Increase pandas display rows and columns\n",
    "pd.set_option('display.max_rows', 50)\n",
    "pd.set_option('display.max_columns', 50)"
   ]
  },
  {
   "cell_type": "markdown",
   "metadata": {},
   "source": [
    "## In this notebook, I will train a Convolutional Nueral Network on image data representing handwritten numbers and mathematical symbols"
   ]
  },
  {
   "cell_type": "markdown",
   "metadata": {},
   "source": [
    "### Load Training Data"
   ]
  },
  {
   "cell_type": "code",
   "execution_count": 9,
   "metadata": {},
   "outputs": [],
   "source": [
    "# Set filepath for training images\n",
    "filepath = '../image_data/training_images/'"
   ]
  },
  {
   "cell_type": "code",
   "execution_count": 10,
   "metadata": {
    "scrolled": false
   },
   "outputs": [
    {
     "name": "stdout",
     "output_type": "stream",
     "text": [
      "Found 97485 files belonging to 13 classes.\n"
     ]
    }
   ],
   "source": [
    "# Load training images as a tensorflow object to feed into the CNN\n",
    "## Parameters for this function were adapted from documentation found at https://keras.io/api/data_loading/image/\n",
    "\n",
    "image_dataset = image_dataset_from_directory(\n",
    "    filepath,\n",
    "    labels=\"inferred\",\n",
    "    label_mode=\"int\",\n",
    "    class_names=None,\n",
    "    color_mode=\"grayscale\",\n",
    "    batch_size=128,\n",
    "    image_size=(50, 50),\n",
    "    shuffle=True,\n",
    "    seed=None,\n",
    "    validation_split=None,\n",
    "    subset=None,\n",
    "    interpolation=\"bilinear\",\n",
    "    follow_links=False\n",
    ")"
   ]
  },
  {
   "cell_type": "code",
   "execution_count": 12,
   "metadata": {},
   "outputs": [
    {
     "data": {
      "text/plain": [
       "['+', '-', '0', '1', '2', '3', '4', '5', '6', '7', '8', '9', 'times']"
      ]
     },
     "execution_count": 12,
     "metadata": {},
     "output_type": "execute_result"
    }
   ],
   "source": [
    "image_dataset.class_names"
   ]
  },
  {
   "cell_type": "markdown",
   "metadata": {},
   "source": [
    "### Create and Train CNN"
   ]
  },
  {
   "cell_type": "code",
   "execution_count": 25,
   "metadata": {
    "id": "GJrQk3lmi8SF"
   },
   "outputs": [],
   "source": [
    "# Instantiate CNN\n",
    "model = Sequential()\n",
    "\n",
    "# convolutional layer with 32 filters.\n",
    "model.add(Conv2D(32, 3, activation='relu', input_shape=(50, 50, 1)))\n",
    "\n",
    "# MaxPool\n",
    "model.add(MaxPooling2D(2))\n",
    "\n",
    "# Conv block with 0.2 dropout\n",
    "model.add(Conv2D(64, 3, activation='relu'))\n",
    "model.add(MaxPooling2D(2))\n",
    "\n",
    "model.add(Dropout(0.2))\n",
    "\n",
    "# Conv block with 0.3 dropout\n",
    "model.add(Conv2D(64, 3, activation='relu'))\n",
    "model.add(MaxPooling2D(2))\n",
    "\n",
    "model.add(Dropout(0.3))\n",
    "\n",
    "# Flatten and output\n",
    "model.add(Flatten())\n",
    "model.add(Dense(13, activation='softmax'))"
   ]
  },
  {
   "cell_type": "code",
   "execution_count": 26,
   "metadata": {
    "id": "aJlqC-gsjbgl"
   },
   "outputs": [],
   "source": [
    "# Compile\n",
    "model.compile(\n",
    "    loss='sparse_categorical_crossentropy', \n",
    "    optimizer='rmsprop',\n",
    "    metrics=['acc']\n",
    ")"
   ]
  },
  {
   "cell_type": "code",
   "execution_count": 27,
   "metadata": {
    "scrolled": false
   },
   "outputs": [
    {
     "name": "stdout",
     "output_type": "stream",
     "text": [
      "Model: \"sequential_3\"\n",
      "_________________________________________________________________\n",
      " Layer (type)                Output Shape              Param #   \n",
      "=================================================================\n",
      " conv2d_8 (Conv2D)           (None, 48, 48, 32)        320       \n",
      "                                                                 \n",
      " max_pooling2d_8 (MaxPooling  (None, 24, 24, 32)       0         \n",
      " 2D)                                                             \n",
      "                                                                 \n",
      " conv2d_9 (Conv2D)           (None, 22, 22, 32)        9248      \n",
      "                                                                 \n",
      " max_pooling2d_9 (MaxPooling  (None, 11, 11, 32)       0         \n",
      " 2D)                                                             \n",
      "                                                                 \n",
      " conv2d_10 (Conv2D)          (None, 9, 9, 32)          9248      \n",
      "                                                                 \n",
      " max_pooling2d_10 (MaxPoolin  (None, 4, 4, 32)         0         \n",
      " g2D)                                                            \n",
      "                                                                 \n",
      " flatten_3 (Flatten)         (None, 512)               0         \n",
      "                                                                 \n",
      " dense_3 (Dense)             (None, 13)                6669      \n",
      "                                                                 \n",
      "=================================================================\n",
      "Total params: 25,485\n",
      "Trainable params: 25,485\n",
      "Non-trainable params: 0\n",
      "_________________________________________________________________\n"
     ]
    }
   ],
   "source": [
    "# Summarize model\n",
    "model.summary()"
   ]
  },
  {
   "cell_type": "code",
   "execution_count": 28,
   "metadata": {
    "id": "sxf05hP7jd57"
   },
   "outputs": [
    {
     "name": "stdout",
     "output_type": "stream",
     "text": [
      "Epoch 1/10\n",
      "762/762 [==============================] - 138s 180ms/step - loss: 0.9647 - acc: 0.7748 - val_loss: 0.1456 - val_acc: 0.9575\n",
      "Epoch 2/10\n",
      "762/762 [==============================] - 142s 187ms/step - loss: 0.1064 - acc: 0.9707 - val_loss: 0.1123 - val_acc: 0.9715\n",
      "Epoch 3/10\n",
      "762/762 [==============================] - 141s 185ms/step - loss: 0.0656 - acc: 0.9830 - val_loss: 0.0493 - val_acc: 0.9877\n",
      "Epoch 4/10\n",
      "762/762 [==============================] - 139s 182ms/step - loss: 0.0482 - acc: 0.9877 - val_loss: 0.0357 - val_acc: 0.9911\n",
      "Epoch 5/10\n",
      "762/762 [==============================] - 135s 178ms/step - loss: 0.0382 - acc: 0.9906 - val_loss: 0.0229 - val_acc: 0.9945\n",
      "Epoch 6/10\n",
      "762/762 [==============================] - 130s 171ms/step - loss: 0.0323 - acc: 0.9916 - val_loss: 0.0294 - val_acc: 0.9925\n",
      "Epoch 7/10\n",
      "762/762 [==============================] - 131s 172ms/step - loss: 0.0301 - acc: 0.9926 - val_loss: 0.0146 - val_acc: 0.9967\n",
      "Epoch 8/10\n",
      "762/762 [==============================] - 132s 173ms/step - loss: 0.0291 - acc: 0.9932 - val_loss: 0.0384 - val_acc: 0.9904\n",
      "Epoch 9/10\n",
      "762/762 [==============================] - 138s 181ms/step - loss: 0.0310 - acc: 0.9928 - val_loss: 0.0137 - val_acc: 0.9969\n",
      "Epoch 10/10\n",
      "762/762 [==============================] - 138s 181ms/step - loss: 0.0235 - acc: 0.9944 - val_loss: 0.0172 - val_acc: 0.9961\n"
     ]
    }
   ],
   "source": [
    "# Fit Model\n",
    "history = model.fit(\n",
    "    image_dataset,\n",
    "    validation_data=image_dataset,\n",
    "    epochs=10\n",
    ")"
   ]
  },
  {
   "cell_type": "code",
   "execution_count": 30,
   "metadata": {
    "scrolled": true
   },
   "outputs": [
    {
     "data": {
      "image/png": "[encoded data removed]",
      "text/plain": [
       "<Figure size 640x480 with 1 Axes>"
      ]
     },
     "metadata": {},
     "output_type": "display_data"
    }
   ],
   "source": [
    "# Print training and validation loss accross epochs\n",
    "plt.plot(history.history['loss'], c='navy', label='Training Loss')\n",
    "plt.plot(history.history['val_loss'], c='skyblue', label='Validation Loss')\n",
    "plt.legend();"
   ]
  },
  {
   "cell_type": "markdown",
   "metadata": {},
   "source": [
    "### Save Trained Model"
   ]
  },
  {
   "cell_type": "code",
   "execution_count": null,
   "metadata": {},
   "outputs": [],
   "source": [
    "# pickle model to file\n",
    "filename = '../models/cnn_3layer.pkl'\n",
    "pickle.dump(model, open(filename, 'wb'))"
   ]
  },
  {
   "cell_type": "code",
   "execution_count": 1,
   "metadata": {},
   "outputs": [],
   "source": [
    "# validation filepath\n",
    "val_path = '../image_data/validation_images/'"
   ]
  },
  {
   "cell_type": "code",
   "execution_count": 111,
   "metadata": {},
   "outputs": [],
   "source": [
    "# Function to create image validation data\n",
    "# Extracts data from given directory, loads, resizes, and change images to grayscale\n",
    "# Reshape data and create y labels\n",
    "def create_training_data(img_dir):\n",
    "    img_data = []\n",
    "    labels = []\n",
    "    for dir in os.listdir(img_dir):\n",
    "        for file in os.listdir(os.path.join(img_dir, dir)):\n",
    "            img_path = os.path.join(img_dir, dir, file)\n",
    "            img = cv2.imread(img_path, cv2.IMREAD_GRAYSCALE)\n",
    "            img = cv2.resize(img, (50, 50), interpolation = cv2.INTER_AREA)\n",
    "            img = np.array(img)\n",
    "            img = img.astype('float32')\n",
    "            #img /= 255\n",
    "            img_data.append(img)\n",
    "            labels.append(dir)\n",
    "    X_train = np.array(img_data, np.float32)\n",
    "    X_train = X_train.reshape(-1, 50, 50, 1)\n",
    "    y_train = np.array(labels)\n",
    "    #y_train = np.array(labels, np.float32)\n",
    "    return X_train, y_train\n"
   ]
  },
  {
   "cell_type": "code",
   "execution_count": 135,
   "metadata": {},
   "outputs": [
    {
     "name": "stdout",
     "output_type": "stream",
     "text": [
      "(88, 50, 50)\n"
     ]
    }
   ],
   "source": [
    "X_test = create_testing_data('../image_data/test_images2/')"
   ]
  }
 ],
 "metadata": {
  "accelerator": "GPU",
  "colab": {
   "provenance": []
  },
  "gpuClass": "standard",
  "kernelspec": {
   "display_name": "Python 3 (ipykernel)",
   "language": "python",
   "name": "python3"
  },
  "language_info": {
   "codemirror_mode": {
    "name": "ipython",
    "version": 3
   },
   "file_extension": ".py",
   "mimetype": "text/x-python",
   "name": "python",
   "nbconvert_exporter": "python",
   "pygments_lexer": "ipython3",
   "version": "3.7.15"
  }
 },
 "nbformat": 4,
 "nbformat_minor": 1
}
