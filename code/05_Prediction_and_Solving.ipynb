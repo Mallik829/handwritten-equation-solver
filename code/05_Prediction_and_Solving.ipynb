{
 "cells": [
  {
   "cell_type": "code",
   "execution_count": 1,
   "id": "7e44babe",
   "metadata": {},
   "outputs": [
    {
     "name": "stderr",
     "output_type": "stream",
     "text": [
      "2022-12-14 15:47:37.165851: I tensorflow/core/platform/cpu_feature_guard.cc:193] This TensorFlow binary is optimized with oneAPI Deep Neural Network Library (oneDNN) to use the following CPU instructions in performance-critical operations:  AVX2 FMA\n",
      "To enable them in other operations, rebuild TensorFlow with the appropriate compiler flags.\n",
      "2022-12-14 15:47:37.328589: W tensorflow/compiler/xla/stream_executor/platform/default/dso_loader.cc:64] Could not load dynamic library 'libcudart.so.11.0'; dlerror: libcudart.so.11.0: cannot open shared object file: No such file or directory\n",
      "2022-12-14 15:47:37.328612: I tensorflow/compiler/xla/stream_executor/cuda/cudart_stub.cc:29] Ignore above cudart dlerror if you do not have a GPU set up on your machine.\n",
      "2022-12-14 15:47:38.349879: W tensorflow/compiler/xla/stream_executor/platform/default/dso_loader.cc:64] Could not load dynamic library 'libnvinfer.so.7'; dlerror: libnvinfer.so.7: cannot open shared object file: No such file or directory\n",
      "2022-12-14 15:47:38.349966: W tensorflow/compiler/xla/stream_executor/platform/default/dso_loader.cc:64] Could not load dynamic library 'libnvinfer_plugin.so.7'; dlerror: libnvinfer_plugin.so.7: cannot open shared object file: No such file or directory\n",
      "2022-12-14 15:47:38.349973: W tensorflow/compiler/tf2tensorrt/utils/py_utils.cc:38] TF-TRT Warning: Cannot dlopen some TensorRT libraries. If you would like to use Nvidia GPU with TensorRT, please make sure the missing libraries mentioned above are installed properly.\n"
     ]
    }
   ],
   "source": [
    "# Import libraries and modules\n",
    "import numpy as np\n",
    "import pandas as pd\n",
    "import matplotlib.pyplot as plt\n",
    "import os\n",
    "import glob\n",
    "import pickle\n",
    "\n",
    "from tensorflow.keras.models import Sequential\n",
    "from tensorflow.keras.layers import Dense, Dropout, Flatten, Conv2D, MaxPooling2D\n",
    "from tensorflow.keras.datasets import mnist, cifar10\n",
    "import cv2"
   ]
  },
  {
   "cell_type": "markdown",
   "id": "f3d524e0",
   "metadata": {},
   "source": [
    "## In this notebook, I will load in the image data from the cropped equation, classify the images with my trained CNN, and solve the equation"
   ]
  },
  {
   "cell_type": "code",
   "execution_count": 82,
   "id": "70fdb10f",
   "metadata": {},
   "outputs": [
    {
     "name": "stdout",
     "output_type": "stream",
     "text": [
      "Keras model archive loading:\n",
      "File Name                                             Modified             Size\n",
      "metadata.json                                  2022-12-13 22:04:10           64\n",
      "variables.h5                                   2022-12-13 22:04:10       983824\n",
      "config.json                                    2022-12-13 22:04:10         2670\n",
      "Keras weights file (<HDF5 file \"variables.h5\" (mode r)>) loading:\n",
      "...layers\n",
      "......conv2d\n",
      ".........vars\n",
      "............0\n",
      "............1\n",
      "......conv2d_1\n",
      ".........vars\n",
      "............0\n",
      "............1\n",
      "......dense\n",
      ".........vars\n",
      "............0\n",
      "............1\n",
      "......flatten\n",
      ".........vars\n",
      "......max_pooling2d\n",
      ".........vars\n",
      "......max_pooling2d_1\n",
      ".........vars\n",
      "...metrics\n",
      "......mean\n",
      ".........vars\n",
      "............0\n",
      "............1\n",
      "......mean_metric_wrapper\n",
      ".........vars\n",
      "............0\n",
      "............1\n",
      "...optimizer\n",
      "......vars\n",
      ".........0\n",
      ".........1\n",
      ".........2\n",
      ".........3\n",
      ".........4\n",
      ".........5\n",
      ".........6\n",
      "...vars\n"
     ]
    }
   ],
   "source": [
    "# Load in model here\n",
    "filename = '../models/cnn_3layer64dropout.pkl'\n",
    "model = pickle.load(open(filename, 'rb'))"
   ]
  },
  {
   "cell_type": "code",
   "execution_count": 72,
   "id": "abe08388",
   "metadata": {},
   "outputs": [],
   "source": [
    "# set equation directory path\n",
    "eq_dir = '../image_data/image_output/'"
   ]
  },
  {
   "cell_type": "markdown",
   "id": "319cabe4",
   "metadata": {},
   "source": [
    "### Load in Images and make predictions"
   ]
  },
  {
   "cell_type": "code",
   "execution_count": 73,
   "id": "feef79d9",
   "metadata": {},
   "outputs": [],
   "source": [
    "# create seperated equation image data\n",
    "def create_testing_data(eq_dir):\n",
    "    img_data = []\n",
    "    for file in sorted(os.listdir(eq_dir)):\n",
    "        img_path = os.path.join(eq_dir, file)\n",
    "        img = cv2.imread(img_path, cv2.IMREAD_GRAYSCALE)\n",
    "        img = cv2.resize(img, (50, 50), interpolation = cv2.INTER_AREA)\n",
    "        img = np.array(img)\n",
    "        img = img.astype('float32')\n",
    "        img_data.append(img)\n",
    "    X_test = np.array(img_data, np.float32)\n",
    "    X_test = X_test.reshape(-1, 50, 50, 1)\n",
    "    return X_test"
   ]
  },
  {
   "cell_type": "code",
   "execution_count": 183,
   "id": "f2f19199",
   "metadata": {
    "scrolled": true
   },
   "outputs": [],
   "source": [
    "# Load in images and check shape\n",
    "X_test = create_testing_data(eq_dir)\n",
    "X_test.shape"
   ]
  },
  {
   "cell_type": "code",
   "execution_count": 185,
   "id": "7f99db26",
   "metadata": {},
   "outputs": [
    {
     "name": "stdout",
     "output_type": "stream",
     "text": [
      "1/1 [==============================] - 0s 46ms/step\n"
     ]
    },
    {
     "data": {
      "text/plain": [
       "array([11,  4, 12,  5])"
      ]
     },
     "execution_count": 185,
     "metadata": {},
     "output_type": "execute_result"
    }
   ],
   "source": [
    "# get predicted characters\n",
    "y_pred = np.argmax(model.predict(X_test), axis=1)\n",
    "y_pred"
   ]
  },
  {
   "cell_type": "markdown",
   "id": "ab18acec",
   "metadata": {},
   "source": [
    "### Convert output to a readable equation and solve"
   ]
  },
  {
   "cell_type": "code",
   "execution_count": 186,
   "id": "60a6f732",
   "metadata": {},
   "outputs": [],
   "source": [
    "# convert prediction output to symbols\n",
    "math_dict = {0: '+', 1: '-', 2: '0', 3: '1', 4: '2', 5: '3', 6: '4', 7: '5',\n",
    "             8: '6', 9: '7', 10: '8', 11: '9', 12: '*'}"
   ]
  },
  {
   "cell_type": "code",
   "execution_count": 187,
   "id": "c50df2e1",
   "metadata": {},
   "outputs": [
    {
     "name": "stdout",
     "output_type": "stream",
     "text": [
      "92*3\n"
     ]
    }
   ],
   "source": [
    "# create equation\n",
    "equation = ''\n",
    "for i in y_pred:\n",
    "    equation += math_dict[i]\n",
    "print(equation)"
   ]
  },
  {
   "cell_type": "code",
   "execution_count": 188,
   "id": "cf2cfaab",
   "metadata": {},
   "outputs": [
    {
     "name": "stdout",
     "output_type": "stream",
     "text": [
      "92*3 = 276\n"
     ]
    }
   ],
   "source": [
    "# Solve equation\n",
    "print(f'{equation} = {eval(equation)}')"
   ]
  },
  {
   "cell_type": "code",
   "execution_count": 189,
   "id": "57967f41",
   "metadata": {},
   "outputs": [
    {
     "data": {
      "image/png": "[encoded data removed]",
      "text/plain": [
       "<Figure size 640x480 with 1 Axes>"
      ]
     },
     "metadata": {},
     "output_type": "display_data"
    }
   ],
   "source": [
    "plt.imshow(X_test[0], cmap='binary');"
   ]
  },
  {
   "cell_type": "code",
   "execution_count": null,
   "id": "26563060",
   "metadata": {},
   "outputs": [],
   "source": []
  }
 ],
 "metadata": {
  "kernelspec": {
   "display_name": "Python 3 (ipykernel)",
   "language": "python",
   "name": "python3"
  },
  "language_info": {
   "codemirror_mode": {
    "name": "ipython",
    "version": 3
   },
   "file_extension": ".py",
   "mimetype": "text/x-python",
   "name": "python",
   "nbconvert_exporter": "python",
   "pygments_lexer": "ipython3",
   "version": "3.7.15"
  }
 },
 "nbformat": 4,
 "nbformat_minor": 5
}
