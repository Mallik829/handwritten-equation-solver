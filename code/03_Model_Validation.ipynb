{
 "cells": [
  {
   "cell_type": "code",
   "execution_count": 1,
   "id": "e26c53e4",
   "metadata": {},
   "outputs": [
    {
     "name": "stderr",
     "output_type": "stream",
     "text": [
      "2022-12-15 03:54:07.446555: I tensorflow/core/platform/cpu_feature_guard.cc:193] This TensorFlow binary is optimized with oneAPI Deep Neural Network Library (oneDNN) to use the following CPU instructions in performance-critical operations:  AVX2 FMA\n",
      "To enable them in other operations, rebuild TensorFlow with the appropriate compiler flags.\n",
      "2022-12-15 03:54:08.003180: W tensorflow/compiler/xla/stream_executor/platform/default/dso_loader.cc:64] Could not load dynamic library 'libcudart.so.11.0'; dlerror: libcudart.so.11.0: cannot open shared object file: No such file or directory; LD_LIBRARY_PATH: /home/mark/Python/anaconda3/lib/python3.7/site-packages/cv2/../../lib64:\n",
      "2022-12-15 03:54:08.003294: I tensorflow/compiler/xla/stream_executor/cuda/cudart_stub.cc:29] Ignore above cudart dlerror if you do not have a GPU set up on your machine.\n",
      "2022-12-15 03:54:09.481055: W tensorflow/compiler/xla/stream_executor/platform/default/dso_loader.cc:64] Could not load dynamic library 'libnvinfer.so.7'; dlerror: libnvinfer.so.7: cannot open shared object file: No such file or directory; LD_LIBRARY_PATH: /home/mark/Python/anaconda3/lib/python3.7/site-packages/cv2/../../lib64:\n",
      "2022-12-15 03:54:09.481701: W tensorflow/compiler/xla/stream_executor/platform/default/dso_loader.cc:64] Could not load dynamic library 'libnvinfer_plugin.so.7'; dlerror: libnvinfer_plugin.so.7: cannot open shared object file: No such file or directory; LD_LIBRARY_PATH: /home/mark/Python/anaconda3/lib/python3.7/site-packages/cv2/../../lib64:\n",
      "2022-12-15 03:54:09.481716: W tensorflow/compiler/tf2tensorrt/utils/py_utils.cc:38] TF-TRT Warning: Cannot dlopen some TensorRT libraries. If you would like to use Nvidia GPU with TensorRT, please make sure the missing libraries mentioned above are installed properly.\n"
     ]
    }
   ],
   "source": [
    "# Import libraries and modules\n",
    "import numpy as np\n",
    "import pandas as pd\n",
    "import matplotlib.pyplot as plt\n",
    "import cv2\n",
    "import os\n",
    "import pickle\n",
    "import seaborn as sns\n",
    "\n",
    "from tensorflow.keras.models import Sequential\n",
    "from tensorflow.keras.layers import Dense, Dropout, Flatten, Conv2D, MaxPooling2D\n",
    "from tensorflow.keras.datasets import mnist, cifar10\n",
    "from tensorflow.keras.preprocessing import image_dataset_from_directory\n",
    "from tensorflow.keras.applications.imagenet_utils import decode_predictions\n",
    "\n",
    "from sklearn.metrics import confusion_matrix, plot_confusion_matrix\n",
    "from sklearn.metrics import roc_curve, auc, accuracy_score"
   ]
  },
  {
   "cell_type": "markdown",
   "id": "04ad9c68",
   "metadata": {},
   "source": [
    "## In this notebook, I will validate my CNN using a seperated validation set made from the training data of 200 images per class"
   ]
  },
  {
   "cell_type": "markdown",
   "id": "2d0b65af",
   "metadata": {},
   "source": [
    "### Load in validation data"
   ]
  },
  {
   "cell_type": "code",
   "execution_count": 3,
   "id": "c0b2c284",
   "metadata": {},
   "outputs": [],
   "source": [
    "# Function to create image validation data\n",
    "# Extracts data from given directory, loads, resizes, and change images to grayscale\n",
    "# Reshape data and create y labels\n",
    "## code for this function was adapted from code found at https://towardsdatascience.com/loading-custom-image-dataset-for-deep-learning-models-part-1-d64fa7aaeca6\n",
    "\n",
    "def create_validation_data(img_dir):\n",
    "    img_data = []\n",
    "    labels = []\n",
    "    for dir in sorted(os.listdir(img_dir)):\n",
    "        for file in os.listdir(os.path.join(img_dir, dir)):\n",
    "            img_path = os.path.join(img_dir, dir, file)\n",
    "            img = cv2.imread(img_path, cv2.IMREAD_GRAYSCALE)\n",
    "            img = cv2.resize(img, (50, 50), interpolation = cv2.INTER_AREA)\n",
    "            img = np.array(img)\n",
    "            img = img.astype('float32')\n",
    "            #img /= 255\n",
    "            img_data.append(img)\n",
    "            labels.append(dir)\n",
    "    X_val = np.array(img_data, np.float32)\n",
    "    X_val = X_val.reshape(-1, 50, 50, 1)\n",
    "    y_val = np.array(labels)\n",
    "    return X_val, y_val"
   ]
  },
  {
   "cell_type": "code",
   "execution_count": 4,
   "id": "86ec381a",
   "metadata": {},
   "outputs": [],
   "source": [
    "# validation filepath\n",
    "val_path = '../image_data/validation_images/'"
   ]
  },
  {
   "cell_type": "code",
   "execution_count": 5,
   "id": "06effe7b",
   "metadata": {},
   "outputs": [],
   "source": [
    "# Load in validation data\n",
    "X_val, y_val = create_validation_data(val_path)"
   ]
  },
  {
   "cell_type": "markdown",
   "id": "2546221d",
   "metadata": {},
   "source": [
    "### Load in CNNs"
   ]
  },
  {
   "cell_type": "code",
   "execution_count": 19,
   "id": "73eed675",
   "metadata": {
    "scrolled": true
   },
   "outputs": [
    {
     "name": "stdout",
     "output_type": "stream",
     "text": [
      "Keras model archive loading:\n",
      "File Name                                             Modified             Size\n",
      "metadata.json                                  2022-12-13 22:04:10           64\n",
      "variables.h5                                   2022-12-13 22:04:10       983824\n",
      "config.json                                    2022-12-13 22:04:10         2670\n",
      "Keras weights file (<HDF5 file \"variables.h5\" (mode r)>) loading:\n",
      "...layers\n",
      "......conv2d\n",
      ".........vars\n",
      "............0\n",
      "............1\n",
      "......conv2d_1\n",
      ".........vars\n",
      "............0\n",
      "............1\n",
      "......dense\n",
      ".........vars\n",
      "............0\n",
      "............1\n",
      "......flatten\n",
      ".........vars\n",
      "......max_pooling2d\n",
      ".........vars\n",
      "......max_pooling2d_1\n",
      ".........vars\n",
      "...metrics\n",
      "......mean\n",
      ".........vars\n",
      "............0\n",
      "............1\n",
      "......mean_metric_wrapper\n",
      ".........vars\n",
      "............0\n",
      "............1\n",
      "...optimizer\n",
      "......vars\n",
      ".........0\n",
      ".........1\n",
      ".........2\n",
      ".........3\n",
      ".........4\n",
      ".........5\n",
      ".........6\n",
      "...vars\n",
      "Keras model archive loading:\n",
      "File Name                                             Modified             Size\n",
      "metadata.json                                  2022-12-13 19:36:50           64\n",
      "variables.h5                                   2022-12-13 19:36:50       236544\n",
      "config.json                                    2022-12-13 19:36:50         3420\n",
      "Keras weights file (<HDF5 file \"variables.h5\" (mode r)>) loading:\n",
      "...layers\n",
      "......conv2d\n",
      ".........vars\n",
      "............0\n",
      "............1\n",
      "......conv2d_1\n",
      ".........vars\n",
      "............0\n",
      "............1\n",
      "......conv2d_2\n",
      ".........vars\n",
      "............0\n",
      "............1\n",
      "......dense\n",
      ".........vars\n",
      "............0\n",
      "............1\n",
      "......flatten\n",
      ".........vars\n",
      "......max_pooling2d\n",
      ".........vars\n",
      "......max_pooling2d_1\n",
      ".........vars\n",
      "......max_pooling2d_2\n",
      ".........vars\n",
      "...metrics\n",
      "......mean\n",
      ".........vars\n",
      "............0\n",
      "............1\n",
      "......mean_metric_wrapper\n",
      ".........vars\n",
      "............0\n",
      "............1\n",
      "...optimizer\n",
      "......vars\n",
      ".........0\n",
      ".........1\n",
      ".........2\n",
      ".........3\n",
      ".........4\n",
      ".........5\n",
      ".........6\n",
      ".........7\n",
      ".........8\n",
      "...vars\n",
      "Keras model archive loading:\n",
      "File Name                                             Modified             Size\n",
      "metadata.json                                  2022-12-13 23:20:36           64\n",
      "variables.h5                                   2022-12-13 23:20:36       584704\n",
      "config.json                                    2022-12-13 23:20:36         3432\n",
      "Keras weights file (<HDF5 file \"variables.h5\" (mode r)>) loading:\n",
      "...layers\n",
      "......conv2d\n",
      ".........vars\n",
      "............0\n",
      "............1\n",
      "......conv2d_1\n",
      ".........vars\n",
      "............0\n",
      "............1\n",
      "......conv2d_2\n",
      ".........vars\n",
      "............0\n",
      "............1\n",
      "......dense\n",
      ".........vars\n",
      "............0\n",
      "............1\n",
      "......flatten\n",
      ".........vars\n",
      "......max_pooling2d\n",
      ".........vars\n",
      "......max_pooling2d_1\n",
      ".........vars\n",
      "......max_pooling2d_2\n",
      ".........vars\n",
      "...metrics\n",
      "......mean\n",
      ".........vars\n",
      "............0\n",
      "............1\n",
      "......mean_metric_wrapper\n",
      ".........vars\n",
      "............0\n",
      "............1\n",
      "...optimizer\n",
      "......vars\n",
      ".........0\n",
      ".........1\n",
      ".........2\n",
      ".........3\n",
      ".........4\n",
      ".........5\n",
      ".........6\n",
      ".........7\n",
      ".........8\n",
      "...vars\n",
      "Keras model archive loading:\n",
      "File Name                                             Modified             Size\n",
      "metadata.json                                  2022-12-14 01:06:24           64\n",
      "variables.h5                                   2022-12-14 01:06:24       240344\n",
      "config.json                                    2022-12-14 01:06:24         3733\n",
      "Keras weights file (<HDF5 file \"variables.h5\" (mode r)>) loading:\n",
      "...layers\n",
      "......conv2d\n",
      ".........vars\n",
      "............0\n",
      "............1\n",
      "......conv2d_1\n",
      ".........vars\n",
      "............0\n",
      "............1\n",
      "......conv2d_2\n",
      ".........vars\n",
      "............0\n",
      "............1\n",
      "......dense\n",
      ".........vars\n",
      "............0\n",
      "............1\n",
      "......dropout\n",
      ".........vars\n",
      "......dropout_1\n",
      ".........vars\n",
      "......flatten\n",
      ".........vars\n",
      "......max_pooling2d\n",
      ".........vars\n",
      "......max_pooling2d_1\n",
      ".........vars\n",
      "......max_pooling2d_2\n",
      ".........vars\n",
      "...metrics\n",
      "......mean\n",
      ".........vars\n",
      "............0\n",
      "............1\n",
      "......mean_metric_wrapper\n",
      ".........vars\n",
      "............0\n",
      "............1\n",
      "...optimizer\n",
      "......vars\n",
      ".........0\n",
      ".........1\n",
      ".........2\n",
      ".........3\n",
      ".........4\n",
      ".........5\n",
      ".........6\n",
      ".........7\n",
      ".........8\n",
      "...vars\n",
      "Keras model archive loading:\n",
      "File Name                                             Modified             Size\n",
      "metadata.json                                  2022-12-14 00:20:02           64\n",
      "variables.h5                                   2022-12-14 00:20:02       588504\n",
      "config.json                                    2022-12-14 00:20:02         3726\n",
      "Keras weights file (<HDF5 file \"variables.h5\" (mode r)>) loading:\n",
      "...layers\n",
      "......conv2d\n",
      ".........vars\n",
      "............0\n",
      "............1\n",
      "......conv2d_1\n",
      ".........vars\n",
      "............0\n",
      "............1\n",
      "......conv2d_2\n",
      ".........vars\n",
      "............0\n",
      "............1\n",
      "......dense\n",
      ".........vars\n",
      "............0\n",
      "............1\n",
      "......dropout\n",
      ".........vars\n",
      "......dropout_1\n",
      ".........vars\n",
      "......flatten\n",
      ".........vars\n",
      "......max_pooling2d\n",
      ".........vars\n",
      "......max_pooling2d_1\n",
      ".........vars\n",
      "......max_pooling2d_2\n",
      ".........vars\n",
      "...metrics\n",
      "......mean\n",
      ".........vars\n",
      "............0\n",
      "............1\n",
      "......mean_metric_wrapper\n",
      ".........vars\n",
      "............0\n",
      "............1\n",
      "...optimizer\n",
      "......vars\n",
      ".........0\n",
      ".........1\n",
      ".........2\n",
      ".........3\n",
      ".........4\n",
      ".........5\n",
      ".........6\n",
      ".........7\n",
      ".........8\n",
      "...vars\n",
      "Keras model archive loading:\n",
      "File Name                                             Modified             Size\n",
      "metadata.json                                  2022-12-14 17:54:24           64\n",
      "variables.h5                                   2022-12-14 17:54:24       236544\n",
      "config.json                                    2022-12-14 17:54:24         3434\n",
      "Keras weights file (<HDF5 file \"variables.h5\" (mode r)>) loading:\n",
      "...layers\n",
      "......conv2d\n",
      ".........vars\n",
      "............0\n",
      "............1\n",
      "......conv2d_1\n",
      ".........vars\n",
      "............0\n",
      "............1\n",
      "......conv2d_2\n",
      ".........vars\n",
      "............0\n",
      "............1\n",
      "......dense\n",
      ".........vars\n",
      "............0\n",
      "............1\n",
      "......flatten\n",
      ".........vars\n",
      "......max_pooling2d\n",
      ".........vars\n",
      "......max_pooling2d_1\n",
      ".........vars\n",
      "......max_pooling2d_2\n",
      ".........vars\n",
      "...metrics\n",
      "......mean\n",
      ".........vars\n",
      "............0\n",
      "............1\n",
      "......mean_metric_wrapper\n",
      ".........vars\n",
      "............0\n",
      "............1\n",
      "...optimizer\n",
      "......vars\n",
      ".........0\n",
      ".........1\n",
      ".........2\n",
      ".........3\n",
      ".........4\n",
      ".........5\n",
      ".........6\n",
      ".........7\n",
      ".........8\n",
      "...vars\n"
     ]
    }
   ],
   "source": [
    "# Load in trained CNNs for evaluation\n",
    "filepath = '../models/'\n",
    "model1 = pickle.load(open(filepath + 'cnn_2layer.pkl', 'rb'))\n",
    "model2 = pickle.load(open(filepath + 'cnn_3layer.pkl', 'rb'))\n",
    "model3 = pickle.load(open(filepath + 'cnn_3layer64.pkl', 'rb'))\n",
    "model4 = pickle.load(open(filepath + 'cnn_3layer32dropout.pkl', 'rb'))\n",
    "model5 = pickle.load(open(filepath + 'cnn_3layer64dropout.pkl', 'rb'))\n",
    "model6 = pickle.load(open(filepath + 'cnn_3layer_reduced.pkl', 'rb'))"
   ]
  },
  {
   "cell_type": "code",
   "execution_count": 22,
   "id": "351cd50a",
   "metadata": {},
   "outputs": [
    {
     "name": "stdout",
     "output_type": "stream",
     "text": [
      "Model: \"sequential_3\"\n",
      "_________________________________________________________________\n",
      " Layer (type)                Output Shape              Param #   \n",
      "=================================================================\n",
      " conv2d_8 (Conv2D)           (None, 48, 48, 32)        320       \n",
      "                                                                 \n",
      " max_pooling2d_8 (MaxPooling  (None, 24, 24, 32)       0         \n",
      " 2D)                                                             \n",
      "                                                                 \n",
      " conv2d_9 (Conv2D)           (None, 22, 22, 64)        18496     \n",
      "                                                                 \n",
      " max_pooling2d_9 (MaxPooling  (None, 11, 11, 64)       0         \n",
      " 2D)                                                             \n",
      "                                                                 \n",
      " dropout (Dropout)           (None, 11, 11, 64)        0         \n",
      "                                                                 \n",
      " conv2d_10 (Conv2D)          (None, 9, 9, 64)          36928     \n",
      "                                                                 \n",
      " max_pooling2d_10 (MaxPoolin  (None, 4, 4, 64)         0         \n",
      " g2D)                                                            \n",
      "                                                                 \n",
      " dropout_1 (Dropout)         (None, 4, 4, 64)          0         \n",
      "                                                                 \n",
      " flatten_3 (Flatten)         (None, 1024)              0         \n",
      "                                                                 \n",
      " dense_3 (Dense)             (None, 13)                13325     \n",
      "                                                                 \n",
      "=================================================================\n",
      "Total params: 69,069\n",
      "Trainable params: 69,069\n",
      "Non-trainable params: 0\n",
      "_________________________________________________________________\n"
     ]
    }
   ],
   "source": [
    "# Summarize loaded model\n",
    "model5.summary()"
   ]
  },
  {
   "cell_type": "code",
   "execution_count": 8,
   "id": "61487e3c",
   "metadata": {},
   "outputs": [],
   "source": [
    "# Dictionary to translate model output to labels\n",
    "math_dict = {0: '+', 1: '-', 2: '0', 3: '1', 4: '2', 5: '3', 6: '4', 7: '5',\n",
    "             8: '6', 9: '7', 10: '8', 11: '9', 12: 'times', }"
   ]
  },
  {
   "cell_type": "markdown",
   "id": "c66f920d",
   "metadata": {},
   "source": [
    "### Compute Validation Accuracies"
   ]
  },
  {
   "cell_type": "code",
   "execution_count": 20,
   "id": "d48c113d",
   "metadata": {},
   "outputs": [
    {
     "name": "stdout",
     "output_type": "stream",
     "text": [
      " 6/82 [=>............................] - ETA: 0s"
     ]
    },
    {
     "name": "stderr",
     "output_type": "stream",
     "text": [
      "2022-12-14 21:07:23.814979: W tensorflow/tsl/framework/cpu_allocator_impl.cc:82] Allocation of 26000000 exceeds 10% of free system memory.\n"
     ]
    },
    {
     "name": "stdout",
     "output_type": "stream",
     "text": [
      "82/82 [==============================] - 1s 12ms/step\n",
      "validation accuracy of model: 0.9719230769230769\n"
     ]
    }
   ],
   "source": [
    "# Predict validation set, convert to labels, and calculate accuracy\n",
    "y_pred = np.argmax(model1.predict(X_val), axis=1)\n",
    "\n",
    "y_predicted = []\n",
    "for char in y_pred:\n",
    "    y_predicted.append(math_dict[char])\n",
    "    \n",
    "print(f'validation accuracy of model: {accuracy_score(y_val, y_predicted)}')"
   ]
  },
  {
   "cell_type": "code",
   "execution_count": 120,
   "id": "7a3155f0",
   "metadata": {},
   "outputs": [
    {
     "name": "stdout",
     "output_type": "stream",
     "text": [
      "82/82 [==============================] - 1s 12ms/step\n"
     ]
    },
    {
     "data": {
      "text/plain": [
       "0.9719230769230769"
      ]
     },
     "execution_count": 120,
     "metadata": {},
     "output_type": "execute_result"
    }
   ],
   "source": [
    "# Predict validation set, convert to labels, and calculate accuracy\n",
    "y_pred = np.argmax(model2.predict(X_val), axis=1)\n",
    "\n",
    "y_predicted = []\n",
    "for char in y_pred:\n",
    "    y_predicted.append(math_dict[char])\n",
    "    \n",
    "print(f'validation accuracy of model: {accuracy_score(y_val, y_predicted)}')"
   ]
  },
  {
   "cell_type": "code",
   "execution_count": 121,
   "id": "3f9949ef",
   "metadata": {},
   "outputs": [
    {
     "name": "stdout",
     "output_type": "stream",
     "text": [
      "82/82 [==============================] - 1s 10ms/step\n"
     ]
    },
    {
     "data": {
      "text/plain": [
       "0.9730769230769231"
      ]
     },
     "execution_count": 121,
     "metadata": {},
     "output_type": "execute_result"
    }
   ],
   "source": [
    "# Predict validation set, convert to labels, and calculate accuracy\n",
    "y_pred = np.argmax(model3.predict(X_val), axis=1)\n",
    "\n",
    "y_predicted = []\n",
    "for char in y_pred:\n",
    "    y_predicted.append(math_dict[char])\n",
    "    \n",
    "print(f'validation accuracy of model: {accuracy_score(y_val, y_predicted)}')"
   ]
  },
  {
   "cell_type": "code",
   "execution_count": 122,
   "id": "effc3891",
   "metadata": {},
   "outputs": [
    {
     "name": "stdout",
     "output_type": "stream",
     "text": [
      "82/82 [==============================] - 1s 14ms/step\n"
     ]
    },
    {
     "data": {
      "text/plain": [
       "0.9657692307692308"
      ]
     },
     "execution_count": 122,
     "metadata": {},
     "output_type": "execute_result"
    }
   ],
   "source": [
    "# Predict validation set, convert to labels, and calculate accuracy\n",
    "y_pred = np.argmax(model4.predict(X_val), axis=1)\n",
    "\n",
    "y_predicted = []\n",
    "for char in y_pred:\n",
    "    y_predicted.append(math_dict[char])\n",
    "    \n",
    "print(f'validation accuracy of model: {accuracy_score(y_val, y_predicted)}')"
   ]
  },
  {
   "cell_type": "code",
   "execution_count": 23,
   "id": "30b2a560",
   "metadata": {},
   "outputs": [
    {
     "name": "stdout",
     "output_type": "stream",
     "text": [
      "82/82 [==============================] - 1s 14ms/step\n",
      "validation accuracy of model: 0.9780769230769231\n"
     ]
    }
   ],
   "source": [
    "# Predict validation set, convert to labels, and calculate accuracy\n",
    "y_pred = np.argmax(model5.predict(X_val), axis=1)\n",
    "\n",
    "y_predicted = []\n",
    "for char in y_pred:\n",
    "    y_predicted.append(math_dict[char])\n",
    "    \n",
    "print(f'validation accuracy of model: {accuracy_score(y_val, y_predicted)}')"
   ]
  },
  {
   "cell_type": "code",
   "execution_count": 15,
   "id": "1a1cb0de",
   "metadata": {},
   "outputs": [
    {
     "name": "stdout",
     "output_type": "stream",
     "text": [
      " 7/82 [=>............................] - ETA: 0s"
     ]
    },
    {
     "name": "stderr",
     "output_type": "stream",
     "text": [
      "2022-12-14 17:55:07.556421: W tensorflow/tsl/framework/cpu_allocator_impl.cc:82] Allocation of 26000000 exceeds 10% of free system memory.\n"
     ]
    },
    {
     "name": "stdout",
     "output_type": "stream",
     "text": [
      "82/82 [==============================] - 1s 9ms/step\n"
     ]
    },
    {
     "data": {
      "text/plain": [
       "0.9723076923076923"
      ]
     },
     "execution_count": 15,
     "metadata": {},
     "output_type": "execute_result"
    }
   ],
   "source": [
    "# Predict validation set, convert to labels, and calculate accuracy\n",
    "y_pred = np.argmax(model6.predict(X_val), axis=1)\n",
    "\n",
    "y_predicted = []\n",
    "for char in y_pred:\n",
    "    y_predicted.append(math_dict[char])\n",
    "    \n",
    "print(f'validation accuracy of model: {accuracy_score(y_val, y_predicted)}')"
   ]
  },
  {
   "cell_type": "markdown",
   "id": "d33492a6",
   "metadata": {},
   "source": [
    "### Create Confusion Matrix"
   ]
  },
  {
   "cell_type": "code",
   "execution_count": 24,
   "id": "f99f930c",
   "metadata": {},
   "outputs": [],
   "source": [
    "# create confusion matrix\n",
    "cm = confusion_matrix(y_val, y_predicted)\n",
    "labels = ['+', '-', '0', '1', '2', '3', '4', '5', '6' ,'7', '8', '9', 'times']"
   ]
  },
  {
   "cell_type": "code",
   "execution_count": 25,
   "id": "077c855f",
   "metadata": {},
   "outputs": [
    {
     "data": {
      "image/png": "[encoded data removed]",
      "text/plain": [
       "<Figure size 640x480 with 1 Axes>"
      ]
     },
     "metadata": {},
     "output_type": "display_data"
    }
   ],
   "source": [
    "# plot confusion matrix heatmap\n",
    "\n",
    "sns.heatmap(cm, annot=True, fmt='g', yticklabels=labels, xticklabels=labels, cbar=False, cmap='coolwarm')\n",
    "plt.xlabel('Predicted labels')\n",
    "plt.ylabel('True labels')\n",
    "plt.title('Confusion Matrix'); "
   ]
  },
  {
   "cell_type": "code",
   "execution_count": null,
   "id": "94682ee4",
   "metadata": {},
   "outputs": [],
   "source": []
  }
 ],
 "metadata": {
  "kernelspec": {
   "display_name": "Python 3 (ipykernel)",
   "language": "python",
   "name": "python3"
  },
  "language_info": {
   "codemirror_mode": {
    "name": "ipython",
    "version": 3
   },
   "file_extension": ".py",
   "mimetype": "text/x-python",
   "name": "python",
   "nbconvert_exporter": "python",
   "pygments_lexer": "ipython3",
   "version": "3.7.15"
  }
 },
 "nbformat": 4,
 "nbformat_minor": 5
}
